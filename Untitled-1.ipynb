{
 "cells": [
  {
   "cell_type": "markdown",
   "metadata": {},
   "source": [
    "Please copy this file and fill out the copy. Then send us a link to view your copy\n",
    "\n",
    "Thank you for taking the time to interview with us. Please answer the questions below to the best of your ability. We want to get a sense of how you think about problems as well as your programming style and ability. These questions are purposefully open-ended. Feel free to make any assumptions needed to solve the problems, and clearly document what assumptions you made."
   ]
  },
  {
   "cell_type": "markdown",
   "metadata": {},
   "source": [
    "Problem 1: Transfer Money\n",
    "In this problem, assume that you are implementing a simple backend service that will send money from one user to another. We have given you an outline of the code and want you to fill in the blanks. Feel free to stub out any methods as necessary."
   ]
  },
  {
   "cell_type": "code",
   "execution_count": null,
   "metadata": {},
   "outputs": [],
   "source": [
    "from dataclasses import dataclass\n",
    "\n",
    "@dataclass\n",
    "class User:\n",
    "  id: str\n",
    "  email: str\n",
    "\n",
    "\n",
    "@dataclass\n",
    "class BankAccount:\n",
    "  id: str\n",
    "  user_id: str\n",
    "  currency: str\n",
    "\n",
    "\n",
    "@dataclass\n",
    "class Transfer:\n",
    "  # TODO: implement this class\n",
    "  pass\n",
    "\n",
    "\n",
    "@dataclass\n",
    "class TransferResponse:\n",
    "  # status will be \"error\" or \"pending\" or \"complete\"\n",
    "  status: str\n",
    "  message: str\n",
    "  external_id: str\n",
    "\n",
    "\n",
    "@dataclass\n",
    "class TransferServiceResponse:\n",
    "  # TODO: implement this class\n",
    "  pass\n",
    "\n",
    "\n",
    "class BankAccountService:\n",
    "\n",
    "  def get_balance(bank_account: BankAccount) -> float:\n",
    "    # stub of a method that calls an external API \n",
    "    # that returns the current balance of a bank account\n",
    "    return 100.0\n",
    "\n",
    "  def transfer_money(transfer: Transfer) -> TransferResponse:\n",
    "    # stub of a method that calls an external API\n",
    "    # that transfers money and returns a response object\n",
    "    return TransferResponse(\"pending\", \"Transfer pending\", \"abc-123\")\n",
    "\n",
    "  def get_transfer_status(external_id: str) -> TransferResponse:\n",
    "    # stub of a method that calls an external API\n",
    "    # that gets the status of a transfer from the external id\n",
    "    return TransferResponse(\"complete\", \"Transfer complete\", \"abc-123\")\n",
    "\n",
    "  \n",
    "\n",
    "class TransferService:\n",
    "\n",
    "  def transfer(transfer: Transfer) -> TransferServiceResponse:\n",
    "    # TODO: implement this method\n",
    "    # think about validation, error handling, and user notification\n",
    "    pass\n",
    "\n",
    "\n",
    "  \n",
    "\n",
    "\n"
   ]
  },
  {
   "cell_type": "markdown",
   "metadata": {},
   "source": [
    "\n",
    "Problem 2: Schema Design\n",
    "Design a relational database schema based on the descriptions of the objects below. You can implement them as dataclasses with the same types as the column types in the databse, or just write psuedocode.\n",
    "\n",
    "Objects\n",
    "\n",
    "User: uniquely defines a user with their contact information\n",
    "BankAccount: a users external bank account\n",
    "Wallet: a users wallet for a specific currency on our platform\n",
    "ExternalTransfer: a transfer from a BankAccount to a Wallet\n",
    "InternalTransfer: a transfer between Wallets\n",
    "Exchange: an exchange between two currencies\n",
    "Transaction: tracks any change to the balance of a Wallet\n",
    "Note that you may need to define additional objects to track statuses and / or relate objects to each other"
   ]
  },
  {
   "cell_type": "code",
   "execution_count": null,
   "metadata": {},
   "outputs": [],
   "source": [
    "from dataclasses import dataclass\n",
    "\n",
    "# TODO implement all objects described above \n",
    "# as well as ony other object necessary\n",
    "\n",
    "@dataclass\n",
    "class User:\n",
    "  pass\n"
   ]
  },
  {
   "cell_type": "markdown",
   "metadata": {},
   "source": [
    "Problem 3: System Design\n",
    "Design the high-level system architecture for a system that allows users to:\n",
    "\n",
    "Sign up for our service\n",
    "Connect their bank accounts\n",
    "Transfer money from their bank accounts to a wallet on our platform\n",
    "Transfer money from their wallet to another user's wallet\n",
    "Transfer money from their wallet to their bank account\n",
    "Think about logging, doing long tasks asynchronously, sending notifications, etc."
   ]
  },
  {
   "cell_type": "markdown",
   "metadata": {},
   "source": [
    "Your answer: please create a diagram using any diagram tool of your choice, and insert it as an image here."
   ]
  }
 ],
 "metadata": {
  "kernelspec": {
   "display_name": "Python 3.10.5 64-bit",
   "language": "python",
   "name": "python3"
  },
  "language_info": {
   "name": "python",
   "version": "3.10.5"
  },
  "orig_nbformat": 4,
  "vscode": {
   "interpreter": {
    "hash": "916dbcbb3f70747c44a77c7bcd40155683ae19c65e1c03b4aa3499c5328201f1"
   }
  }
 },
 "nbformat": 4,
 "nbformat_minor": 2
}
